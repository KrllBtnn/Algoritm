{
 "cells": [
  {
   "cell_type": "markdown",
   "id": "de5ff5ef",
   "metadata": {},
   "source": [
    "# Задача 1\n",
    "\n",
    "Напишите функцию, которая транспонирует двумерный массив"
   ]
  },
  {
   "cell_type": "code",
   "execution_count": 10,
   "id": "b273209e",
   "metadata": {},
   "outputs": [
    {
     "name": "stdout",
     "output_type": "stream",
     "text": [
      "[[1, 8], [2, 9], [3, 10], [4, 11], [5, 0], [6, 0], [7, 0]]\n"
     ]
    }
   ],
   "source": [
    "def trans(arr):\n",
    "    \n",
    "    rows = len(arr)\n",
    "    if len(arr[0]) >= len(arr[1]):\n",
    "        cols = len(arr[0])\n",
    "    elif len(arr[0]) < len(arr[1]):\n",
    "        cols = len(arr[1])\n",
    "    result = [[0 for r in range(rows)] for c in range(cols)]\n",
    "    \n",
    "    \n",
    "    for i in range(rows):\n",
    "        for j in range(cols):\n",
    "            if i < len(arr) and j < len(arr[i]):\n",
    "                result[j][i] = arr[i][j]\n",
    "            else:\n",
    "                result[j][i] = 0\n",
    "            \n",
    "    return result\n",
    "\n",
    "arr = [[1, 2, 3, 4, 5, 6, 7], [8, 9, 10, 11]]\n",
    "print(trans(arr))"
   ]
  },
  {
   "cell_type": "markdown",
   "id": "a392fa0d",
   "metadata": {},
   "source": [
    "# Задача 2\n",
    "\n",
    "Написать функцию, которая в качестве параметра принимает список кортежей (кортежи содержат следующую информацию - Кличка животного, Возраст животного, Имя владельца, Фамилия владельца) и оптимизирует хранение данных таким образом, чтобы для каждому владельцу соответствовали все его животные.\n",
    "\n",
    "Пример входных данных: [('Муся', 7, 'Игорь', 'Бероев'), ('Изольда', 2, 'Игорь', 'Бероев')]."
   ]
  },
  {
   "cell_type": "code",
   "execution_count": 19,
   "id": "491357e9",
   "metadata": {},
   "outputs": [
    {
     "name": "stdout",
     "output_type": "stream",
     "text": [
      "{('Игорь', 'Бероев'): [('Муся', 7), ('Изольда', 2)]}\n"
     ]
    }
   ],
   "source": [
    "def optimize(a):\n",
    "    owners_dict = {}\n",
    "    for pet in a:\n",
    "        name, age, owner_name, owner_surname = pet\n",
    "        if (owner_name, owner_surname) in owners_dict:\n",
    "            owners_dict[(owner_name, owner_surname)].append((name, age))\n",
    "        else:\n",
    "            owners_dict[(owner_name, owner_surname)] = [(name, age)]\n",
    "    return owners_dict\n",
    "\n",
    "a = [('Муся', 7, 'Игорь', 'Бероев'), ('Изольда', 2, 'Игорь', 'Бероев')]\n",
    "print(optimize(a))"
   ]
  },
  {
   "cell_type": "markdown",
   "id": "a7411dec",
   "metadata": {},
   "source": [
    "# Задача 3\n",
    "\n",
    "Напишите функцию, которая принимает на вход строку, и выводит слово, которое встречается во фразе реже всего. Если редких слов несколько, нужно вывести то, которое меньше в лексикографическом порядке. Регистр слов не учитывается, знаки препинания в предложениях игнорируются."
   ]
  },
  {
   "cell_type": "code",
   "execution_count": 26,
   "id": "e877848a",
   "metadata": {},
   "outputs": [
    {
     "name": "stdout",
     "output_type": "stream",
     "text": [
      "плюс\n"
     ]
    }
   ],
   "source": [
    "def r_word(s):\n",
    "    \n",
    "    s = s.lower()\n",
    "    s = s.replace('.', '')\n",
    "    s = s.replace(',', '')\n",
    "    s = s.replace('!', '')\n",
    "    s = s.replace('?', '')\n",
    "    s = s.replace(':', '')\n",
    "    s = s.replace(';', '')\n",
    "    s = s.replace('-', '')\n",
    "    s = s.replace('(', '')\n",
    "    s = s.replace(')', '')\n",
    "    s = s.replace('\"', '')\n",
    "    s = s.replace(\"'\", '')\n",
    "    words = s.split()\n",
    "    word_counts = {}\n",
    "    \n",
    "    for word in words:\n",
    "        if word in word_counts:\n",
    "            word_counts[word] += 1\n",
    "        else:\n",
    "            word_counts[word] = 1\n",
    "    \n",
    "    min_count = min(word_counts.values())\n",
    "    \n",
    "    r_words = [word for word in word_counts if word_counts[word] == min_count]\n",
    "    \n",
    "    return min(r_words)\n",
    "\n",
    "print(r_word(\"Слово плюс слово равно строка\"))"
   ]
  },
  {
   "cell_type": "markdown",
   "id": "79799a12",
   "metadata": {},
   "source": [
    "# Задача 4\n",
    "\n",
    "Напишите функцию, которая принимает на вход строку, содержащую разные буквы латинского алфавита и символы пунктуации и возвращает букву, которая встречается чаще всего. Если таких букв больше одной, то нужно вернуть ту, что стоит выше в алфавите. Регистр букв не учитывается, то есть «А» == «а»."
   ]
  },
  {
   "cell_type": "code",
   "execution_count": 18,
   "id": "6f72eb4c",
   "metadata": {},
   "outputs": [
    {
     "name": "stdout",
     "output_type": "stream",
     "text": [
      "к\n"
     ]
    }
   ],
   "source": [
    "def record_count(s):\n",
    "    \n",
    "    s = s.lower()\n",
    "    d = {}\n",
    "    for letter in s:\n",
    "        if letter.isalpha():\n",
    "            if letter in d:\n",
    "                d[letter] += 1\n",
    "            else:\n",
    "                d[letter] = 1\n",
    "    sorted_dict = sorted(d.items(), key=lambda x: (-x[1], x[0]))\n",
    "    return sorted_dict[0][0]\n",
    "\n",
    "s = \"Я купил кроссовки у Олега\"\n",
    "print(record_count(s))"
   ]
  },
  {
   "cell_type": "markdown",
   "id": "047e8e31",
   "metadata": {},
   "source": [
    "# Задача 5\n",
    "\n",
    "Напишите функцию, которая принимает на вход строку и определяет, является ли она палиндромом. Использовать рекурсию. "
   ]
  },
  {
   "cell_type": "code",
   "execution_count": 11,
   "id": "97d9bcd3",
   "metadata": {},
   "outputs": [
    {
     "name": "stdout",
     "output_type": "stream",
     "text": [
      "True\n"
     ]
    }
   ],
   "source": [
    "def is_palindrome(s):\n",
    "    s = s.lower()\n",
    "    s = s.replace(' ','')\n",
    "    if len(s) < 2:\n",
    "        return True\n",
    "    if s[0] == s[-1]:\n",
    "        return is_palindrome(s[1:-1])\n",
    "    return False\n",
    "\n",
    "s = \"аргенТина манит негра\"\n",
    "print(is_palindrome(s))"
   ]
  },
  {
   "cell_type": "markdown",
   "id": "3886079c",
   "metadata": {},
   "source": [
    "# Задача 6\n",
    "\n",
    "Напишите функцию, которая принимает на вход массив чисел и сортирует его по частоте элементов. Если два элемента имеют одинаковую частоту, то нужно отсортировать по порядку появления в массиве."
   ]
  },
  {
   "cell_type": "code",
   "execution_count": 2,
   "id": "d1c48f42",
   "metadata": {},
   "outputs": [
    {
     "name": "stdout",
     "output_type": "stream",
     "text": [
      "[5, 3, 1, 4, 4, 2, 2]\n"
     ]
    }
   ],
   "source": [
    "def sort_count(arr):\n",
    "    \n",
    "    d = {}\n",
    "    for num in arr:\n",
    "        if num in d:\n",
    "            d[num] += 1\n",
    "        else:\n",
    "            d[num] = 1\n",
    "    \n",
    "    sorted_arr = sorted(arr, key=lambda x: (d[x], arr.index(x)))\n",
    "    return sorted_arr\n",
    "\n",
    "arr = [4, 4, 2, 5, 2, 3, 1]\n",
    "print(sort_count(arr))"
   ]
  },
  {
   "cell_type": "markdown",
   "id": "2048cc24",
   "metadata": {},
   "source": [
    "# Задача 7\n",
    "\n",
    "Напишите функцию, которая принимает на вход строку, состоящую из слов и чисел, разделенных одним пробелом. Слова состоят только из букв. Определить, имеется ли в передаваемой строке непрерывная последовательность из трех слов."
   ]
  },
  {
   "cell_type": "code",
   "execution_count": 15,
   "id": "556edaa8",
   "metadata": {},
   "outputs": [
    {
     "name": "stdout",
     "output_type": "stream",
     "text": [
      "True\n",
      "False\n",
      "True\n"
     ]
    }
   ],
   "source": [
    "def three_words(s):\n",
    "    words = s.split()\n",
    "    count = 0\n",
    "    for word in words:\n",
    "        if word.isalpha():\n",
    "            count += 1\n",
    "            if count == 3:\n",
    "                return True\n",
    "        else:\n",
    "            count = 0\n",
    "    return False\n",
    "\n",
    "a = \"Раз два три 4 пять шесть семь\"\n",
    "b = \"Раз два 3 четыре\"\n",
    "c = \"Раз два три четыре 5 шесть семь\"\n",
    "print(three_words(a))\n",
    "print(three_words(b))\n",
    "print(three_words(c))"
   ]
  },
  {
   "cell_type": "markdown",
   "id": "a06c8308",
   "metadata": {},
   "source": [
    "# Задача 8\n",
    "\n",
    "Напишите функцию, которая принимает на вход строку и возвращает максимальную длину непрерывной последовательности одинаковых букв."
   ]
  },
  {
   "cell_type": "code",
   "execution_count": 10,
   "id": "92dd38ac",
   "metadata": {},
   "outputs": [
    {
     "name": "stdout",
     "output_type": "stream",
     "text": [
      "5\n"
     ]
    }
   ],
   "source": [
    "def max_posled(s):\n",
    "\n",
    "    max_len = 0\n",
    "    current_len = 0\n",
    "    prev_char = None\n",
    "    \n",
    "    for char in s:\n",
    "        if char == prev_char:\n",
    "            current_len += 1\n",
    "        else:\n",
    "            max_len = max(max_len, current_len)\n",
    "            current_len = 1\n",
    "            prev_char = char\n",
    "    return max(max_len, current_len)\n",
    "\n",
    "s = \"aabbbbccccddddd\"\n",
    "print(max_posled(s))"
   ]
  },
  {
   "cell_type": "markdown",
   "id": "e5678c8e",
   "metadata": {},
   "source": [
    "# Задача 10\n",
    "\n",
    "Напишите функцию, которая в качестве параметра принимает список словарей (в качестве ключей – строки, в качестве значений – числа) и выполняет следующую процедуру:\n",
    "\n",
    "Если ключ есть в нескольких словарях, то в новый словарь добавить этот ключ, а в качестве значения использовать сумму всех значений. \n",
    "\n",
    "Если ключ есть только в одном из словарей, то просто добавить его в новый словарь.\n",
    "\n",
    "Вернуть новый словарь"
   ]
  },
  {
   "cell_type": "code",
   "execution_count": 30,
   "id": "c45e1aa1",
   "metadata": {},
   "outputs": [
    {
     "name": "stdout",
     "output_type": "stream",
     "text": [
      "{'a': 5, 'b': 8, 'c': 3, 'd': 12}\n"
     ]
    }
   ],
   "source": [
    "def merge_dicts(arr):\n",
    "    result = {}\n",
    "    for d in arr:\n",
    "        for key, value in d.items():\n",
    "            if key not in result:\n",
    "                result[key] = value\n",
    "            else:\n",
    "                result[key] += value\n",
    "    return result\n",
    "\n",
    "arr = [{'a': 1, 'b': 2, 'c': 3}, {'a': 4, 'd': 5}, {'b': 6, 'd': 7}]\n",
    "print(merge_dicts(dicts))"
   ]
  }
 ],
 "metadata": {
  "kernelspec": {
   "display_name": "Python 3 (ipykernel)",
   "language": "python",
   "name": "python3"
  },
  "language_info": {
   "codemirror_mode": {
    "name": "ipython",
    "version": 3
   },
   "file_extension": ".py",
   "mimetype": "text/x-python",
   "name": "python",
   "nbconvert_exporter": "python",
   "pygments_lexer": "ipython3",
   "version": "3.9.13"
  }
 },
 "nbformat": 4,
 "nbformat_minor": 5
}
