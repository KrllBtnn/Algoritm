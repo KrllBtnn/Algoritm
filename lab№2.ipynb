{
 "cells": [
  {
   "cell_type": "markdown",
   "id": "f5258742",
   "metadata": {},
   "source": [
    "# Задача 1\n",
    "\n",
    "Написать функцию для вычисления n-ого элемента последовательности Фибоначчи (используя рекурсию).\n",
    "\n",
    "Пример: 6 -> 8"
   ]
  },
  {
   "cell_type": "code",
   "execution_count": null,
   "id": "2c0b57f4",
   "metadata": {},
   "outputs": [],
   "source": [
    "n = 50\n",
    "\n",
    "def fibonacci(n):\n",
    "    if n <= 1:\n",
    "        return n\n",
    "    else:\n",
    "        return fibonacci(n-1) + fibonacci(n-2)\n",
    "\n",
    "print(fibonacci(n))"
   ]
  },
  {
   "cell_type": "markdown",
   "id": "073eceac",
   "metadata": {},
   "source": [
    "# Задача 2\n",
    "\n",
    "Из двух списков удалить все элементы, которые есть в обоих списках.\n",
    "\n",
    "Пример: [1,2,3,4,5,6], [4,5,6,7,8,9] -> [1,2,3], [7,8,9]"
   ]
  },
  {
   "cell_type": "code",
   "execution_count": 5,
   "id": "5fa9acec",
   "metadata": {},
   "outputs": [
    {
     "name": "stdout",
     "output_type": "stream",
     "text": [
      "[1, 2, 3] [8, 9, 7]\n"
     ]
    }
   ],
   "source": [
    "list1 = [1,2,3,4,5,6]\n",
    "list2 = [4,5,6,7,8,9]\n",
    "\n",
    "def delete_povtor(list1, list2):\n",
    "    set1 = set(list1)\n",
    "    set2 = set(list2)\n",
    "\n",
    "    clean_list1 = list(set1 - set2)\n",
    "    clean_list2 = list(set2 - set1)\n",
    "\n",
    "    return clean_list1, clean_list2\n",
    "\n",
    "clean_list1, clean_list2 = delete_povtor(list1, list2)\n",
    "print(clean_list1, clean_list2)"
   ]
  },
  {
   "cell_type": "markdown",
   "id": "8075622e",
   "metadata": {},
   "source": [
    "# Задача 3\n",
    "\n",
    "Извлечь из списка все элементы, которые встречаются не реже заданного числа раз.\n",
    "\n",
    "Пример: [1,2,3,3,3,3,3], 4 -> 3"
   ]
  },
  {
   "cell_type": "code",
   "execution_count": 6,
   "id": "ea98c30c",
   "metadata": {},
   "outputs": [
    {
     "name": "stdout",
     "output_type": "stream",
     "text": [
      "[3]\n"
     ]
    }
   ],
   "source": [
    "lst = [1,2,3,3,3,3,3]\n",
    "n = 4\n",
    "\n",
    "def povtor(lst, n):\n",
    "    counter = {}\n",
    "    for chislo in lst:\n",
    "        if chislo in counter.keys():\n",
    "            counter[chislo] += 1\n",
    "        else:\n",
    "            counter[chislo] = 1\n",
    "    result = []\n",
    "    for element in lst:\n",
    "        if counter[element] >= n and element not in result:\n",
    "            result.append(element)\n",
    "    return result\n",
    "\n",
    "print(povtor(lst, n))"
   ]
  },
  {
   "cell_type": "markdown",
   "id": "6a11f68c",
   "metadata": {},
   "source": [
    "# Задача 4\n",
    "\n",
    "Заменить в списке все вложенные списки суммой их элементов\n",
    "\n",
    "Пример: [1, [2, [3,4]]] -> [1, [2, 7]] -> [1, 9]"
   ]
  },
  {
   "cell_type": "code",
   "execution_count": 20,
   "id": "77007ca4",
   "metadata": {},
   "outputs": [
    {
     "name": "stdout",
     "output_type": "stream",
     "text": [
      "[5, 50, 40]\n"
     ]
    }
   ],
   "source": [
    "lst = [1, [2, [3,4]]]\n",
    "\n",
    "def summa_element(lst):\n",
    "    summa = 0\n",
    "    for element in lst:\n",
    "        if isinstance(element, list):\n",
    "            summa += summa_element(element)\n",
    "        else:\n",
    "            summa += element\n",
    "    return summa\n",
    "\n",
    "def summa_list(lst):\n",
    "    result = []\n",
    "    for element in lst:\n",
    "        if isinstance(element, list):\n",
    "            result.append(summa_element(element))\n",
    "        else:\n",
    "            result.append(element)\n",
    "    return result\n",
    "\n",
    "print(summa_list(lst))"
   ]
  },
  {
   "cell_type": "markdown",
   "id": "b144c7e7",
   "metadata": {},
   "source": [
    "# Задача 5\n",
    "\n",
    "Найти наибольшую возрастающую подпоследовательность в списке.\n",
    "\n",
    "Пример: [1,2,3,2,4,5,6,7] -> [4,5,6,7]"
   ]
  },
  {
   "cell_type": "code",
   "execution_count": 4,
   "id": "a66e7973",
   "metadata": {},
   "outputs": [
    {
     "name": "stdout",
     "output_type": "stream",
     "text": [
      "[4, 5, 6, 7]\n"
     ]
    }
   ],
   "source": [
    "lst = [1,2,3,2,4,5,6,7]\n",
    "\n",
    "def posled(lst):\n",
    "    max_posled = []\n",
    "    bufer_posled = []\n",
    "    for ind in range(len(lst)):\n",
    "        if ind == 0 or lst[ind] >= lst[ind-1]:\n",
    "            bufer_posled.append(lst[ind])\n",
    "        else:\n",
    "            if len(bufer_posled) > len(max_posled):\n",
    "                max_posled = bufer_posled\n",
    "            bufer_posled = [lst[ind]]\n",
    "    if len(bufer_posled) > len(max_posled):\n",
    "        max_posled = bufer_posled\n",
    "    return max_posled\n",
    "\n",
    "print(posled(lst))"
   ]
  },
  {
   "cell_type": "markdown",
   "id": "60394cae",
   "metadata": {},
   "source": [
    "# Задача 6\n",
    "\n",
    "Привести заданную строку к стилю “заборчиком”.\n",
    "\n",
    "Пример: “чмаф всех в чатике” -> “ЧмАф ВсЕх В чАтИке”"
   ]
  },
  {
   "cell_type": "code",
   "execution_count": 9,
   "id": "9c2ce029",
   "metadata": {},
   "outputs": [
    {
     "name": "stdout",
     "output_type": "stream",
     "text": [
      "ЧмАф ВсЕх В чАтИкЕ\n"
     ]
    }
   ],
   "source": [
    "string = \"чмаф всех в чатике\"\n",
    "\n",
    "def zabor(string):\n",
    "    zabor_string = \"\"\n",
    "    big = True\n",
    "    for i in range(len(string)):\n",
    "        if string[i].isalpha():\n",
    "            if big == True:\n",
    "                zabor_string += string[i].upper()\n",
    "            else:\n",
    "                zabor_string += string[i].lower()\n",
    "            big = not big\n",
    "        else:\n",
    "            zabor_string += string[i]\n",
    "    return zabor_string\n",
    "\n",
    "print(zabor(string))\n"
   ]
  },
  {
   "cell_type": "markdown",
   "id": "adb50ddb",
   "metadata": {},
   "source": [
    "# Задача 7\n",
    "\n",
    "На вход подается ширина и высота. По этим параметрам нарисовать ромб, используя на выбор один из символов: #, *, +"
   ]
  },
  {
   "cell_type": "raw",
   "id": "c48e6d59",
   "metadata": {},
   "source": [
    "Пример:\n",
    "   #\n",
    " #  #\n",
    "#    #\n",
    " #  #\n",
    "   #"
   ]
  },
  {
   "cell_type": "code",
   "execution_count": null,
   "id": "d68137bb",
   "metadata": {},
   "outputs": [],
   "source": []
  },
  {
   "cell_type": "markdown",
   "id": "3ef99571",
   "metadata": {},
   "source": [
    "# Задача 8\n",
    "\n",
    "Заполнить квадратную матрицу n x n так, чтобы все числа первого столбца и первой строки были равны 1, а каждое из оставшихся чисел  равно сумме верхнего и левого соседей. Вывести на экран матрицу данного размера."
   ]
  },
  {
   "cell_type": "raw",
   "id": "867de519",
   "metadata": {},
   "source": [
    "Пример:\n",
    "1   1   1    1\n",
    "1   2   3    4\n",
    "1   3   6    10\n",
    "1   4   10   20"
   ]
  },
  {
   "cell_type": "code",
   "execution_count": 37,
   "id": "6d9e3f96",
   "metadata": {},
   "outputs": [
    {
     "name": "stdout",
     "output_type": "stream",
     "text": [
      "1 1 1 1 \n",
      "1 2 3 4 \n",
      "1 3 6 10 \n",
      "1 4 10 20 \n",
      "None\n"
     ]
    }
   ],
   "source": [
    "n = 4\n",
    "\n",
    "def create_matrix(n):\n",
    "    \n",
    "    matrix = []\n",
    "    for i in range(n):\n",
    "        row = []\n",
    "        for j in range(n):\n",
    "            row.append(0)\n",
    "        matrix.append(row)\n",
    "\n",
    "    for i in range(n):\n",
    "        matrix[i][0] = 1\n",
    "        matrix[0][i] = 1\n",
    "\n",
    "    for i in range(1, n):\n",
    "        for j in range(1, n):\n",
    "            matrix[i][j] = matrix[i-1][j] + matrix[i][j-1]\n",
    "\n",
    "    return matrix\n",
    "\n",
    "def print_matrix(matrix):\n",
    "    for i in range(len(matrix)):\n",
    "        for j in range(len(matrix[i])):\n",
    "            print(matrix[i][j], end = ' ')\n",
    "        print()\n",
    "\n",
    "print(print_matrix(create_matrix(n)))"
   ]
  },
  {
   "cell_type": "markdown",
   "id": "f157e315",
   "metadata": {},
   "source": [
    "# Задача 9\n",
    "\n",
    "Найти сумму всех чисел в строке.\n",
    "\n",
    "Пример: “В этой 1 строке 4 всего 5 четыре числа 9” -> 19"
   ]
  },
  {
   "cell_type": "code",
   "execution_count": 13,
   "id": "c7bb370c",
   "metadata": {},
   "outputs": [
    {
     "name": "stdout",
     "output_type": "stream",
     "text": [
      "19\n"
     ]
    }
   ],
   "source": [
    "string = \"В этой 1 строке 4 всего 5 четыре числа 9\"\n",
    "\n",
    "def summa_chisel(string):\n",
    "    chislo = \"\"\n",
    "    summa = 0\n",
    "    for i in range(len(string)):\n",
    "        if string[i].isdigit():\n",
    "            chislo += string[i]\n",
    "        elif chislo != \"\":\n",
    "            summa += int(chislo)\n",
    "            chislo = \"\"\n",
    "    if chislo != \"\":\n",
    "        summa += int(chislo)\n",
    "    return summa\n",
    "\n",
    "print(summa_chisel(string))"
   ]
  },
  {
   "cell_type": "markdown",
   "id": "6bec90a0",
   "metadata": {},
   "source": [
    "# Задача 10\n",
    "\n",
    "То же самое, но без явной конвертации (не используя int())"
   ]
  },
  {
   "cell_type": "code",
   "execution_count": 17,
   "id": "0baece49",
   "metadata": {},
   "outputs": [
    {
     "name": "stdout",
     "output_type": "stream",
     "text": [
      "20\n"
     ]
    }
   ],
   "source": [
    "string = \"В этой 1 строке 4 всего 5 четыре числа 9\"\n",
    "\n",
    "def summa_chisel(string):\n",
    "    chislo = \"\"\n",
    "    summa = 0\n",
    "    for i in range(len(string)):\n",
    "        if string[i].isdigit():\n",
    "            chislo += string[i]\n",
    "        elif chislo != \"\":\n",
    "            summa += int(chislo)\n",
    "            chislo = \"\"\n",
    "    if chislo != \"\":\n",
    "        summa += int(chislo)\n",
    "    return summa\n",
    "\n",
    "print(summa_chisel(string))"
   ]
  }
 ],
 "metadata": {
  "kernelspec": {
   "display_name": "Python 3 (ipykernel)",
   "language": "python",
   "name": "python3"
  },
  "language_info": {
   "codemirror_mode": {
    "name": "ipython",
    "version": 3
   },
   "file_extension": ".py",
   "mimetype": "text/x-python",
   "name": "python",
   "nbconvert_exporter": "python",
   "pygments_lexer": "ipython3",
   "version": "3.9.13"
  }
 },
 "nbformat": 4,
 "nbformat_minor": 5
}
