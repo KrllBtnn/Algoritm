{
 "cells": [
  {
   "cell_type": "code",
   "execution_count": 5,
   "id": "638e3fe7",
   "metadata": {
    "scrolled": true
   },
   "outputs": [
    {
     "name": "stdout",
     "output_type": "stream",
     "text": [
      "Слишком маленький список\n"
     ]
    }
   ],
   "source": [
    "# Задача 1. Вернуть первый элемент, третий элемент, второй с конца элемент входного массива.\n",
    "\n",
    "a = [1]\n",
    "def v(x):\n",
    "    if 2 > len(x):\n",
    "        return \"Слишком маленький список\"\n",
    "    el1 = x[0]\n",
    "    el2 = x[1]\n",
    "    el3 = x[-2]\n",
    "    return [el1, el2, el3]\n",
    "\n",
    "print(v(a))"
   ]
  },
  {
   "cell_type": "code",
   "execution_count": null,
   "id": "ab513ff5",
   "metadata": {},
   "outputs": [],
   "source": [
    "# Задача 1.1 Вернуть элемент входного массива. Элемент должен быть параметром функции.\n",
    "\n",
    "a = [1, 2, 3, 4, 5, 6, 7]\n",
    "b = 100\n",
    "\n",
    "def v(x,y):\n",
    "    if y > len(x):\n",
    "        return \"Слишком большой индекс или слишком маленький список\"\n",
    "    return x[y-1]\n",
    "\n",
    "print(v(a, b))"
   ]
  },
  {
   "cell_type": "code",
   "execution_count": 6,
   "id": "f469b986",
   "metadata": {},
   "outputs": [
    {
     "name": "stdout",
     "output_type": "stream",
     "text": [
      "Введите номер элемента 100\n",
      "Слишком большой индекс или слишком маленький индекс\n"
     ]
    }
   ],
   "source": [
    "# Задача 1.2 Вернуть элемент входного массива. Элемент можно ввести\n",
    "\n",
    "a = [1, 2, 3, 4, 5, 6, 7]\n",
    "def v(x):\n",
    "    el = int(input(\"Введите номер элемента \"))\n",
    "    if el > len(x):\n",
    "        return \"Слишком большой индекс или слишком маленький индекс\"\n",
    "    return x[el-1]\n",
    "\n",
    "print(v(a))"
   ]
  },
  {
   "cell_type": "code",
   "execution_count": 8,
   "id": "3b9f122b",
   "metadata": {},
   "outputs": [
    {
     "name": "stdout",
     "output_type": "stream",
     "text": [
      "-1\n"
     ]
    }
   ],
   "source": [
    "# Задача 2. Дан массив чисел и число N. Возвести число в позиции N в степень N. Если это невозможно, то вернуть -1.\n",
    "\n",
    "a = [1, 2, 3, 4, 5, 6, 7, 8, 9, 10]\n",
    "N = 20\n",
    "\n",
    "def v(x):\n",
    "    if N > len(a):\n",
    "        return -1\n",
    "    elif type(x[N]**N)==int:\n",
    "        return x[N]**N\n",
    "    else:\n",
    "        return -1\n",
    "\n",
    "print(v(a))"
   ]
  },
  {
   "cell_type": "code",
   "execution_count": 1,
   "id": "2c8ac1b5",
   "metadata": {},
   "outputs": [
    {
     "name": "stdout",
     "output_type": "stream",
     "text": [
      "18\n"
     ]
    }
   ],
   "source": [
    "# Задача 3. Найти второй индекс входного символа во входной строке. \n",
    "# Пример: f(«сбербанк», «б») == 4\n",
    "\n",
    "a = (\"В информатике, строковый тип - тип данных\")\n",
    "s = (\"о\")\n",
    "\n",
    "def i(x, y):\n",
    "    n = 0\n",
    "    ind = 0\n",
    "    for k in x:\n",
    "        if k==y:\n",
    "            n+=1\n",
    "        if n==2:\n",
    "            break\n",
    "        ind += 1\n",
    "    if n==2:\n",
    "        return ind\n",
    "    else:\n",
    "        return \"Тут нет второго входящего символа\"\n",
    "    \n",
    "print(i(a,s))"
   ]
  },
  {
   "cell_type": "code",
   "execution_count": 2,
   "id": "2b4d5dff",
   "metadata": {},
   "outputs": [
    {
     "name": "stdout",
     "output_type": "stream",
     "text": [
      "1\n"
     ]
    }
   ],
   "source": [
    "# Задача 4. Найти количество нулей в конце входного числа.\n",
    "# Пример: f(101100110100) == 2\n",
    "\n",
    "a = 0\n",
    "\n",
    "def x(y):\n",
    "    n = 0\n",
    "    if y == 0:\n",
    "        n = 1\n",
    "    else:\n",
    "        while y%10==0:\n",
    "            n += 1\n",
    "            y = y // 10\n",
    "    return n\n",
    "    \n",
    "print(x(a))"
   ]
  },
  {
   "cell_type": "code",
   "execution_count": 36,
   "id": "ec91f483",
   "metadata": {},
   "outputs": [
    {
     "name": "stdout",
     "output_type": "stream",
     "text": [
      "ынилб тёчеп анатаС\n"
     ]
    }
   ],
   "source": [
    "# Задача 5. Представить входную строку в обратном порядке.\n",
    "\n",
    "a = \"Сатана печёт блины\"\n",
    "\n",
    "def p(x):\n",
    "    s = x[::-1]\n",
    "    return s\n",
    "\n",
    "print(p(a))"
   ]
  },
  {
   "cell_type": "code",
   "execution_count": 10,
   "id": "6fe568eb",
   "metadata": {},
   "outputs": [
    {
     "name": "stdout",
     "output_type": "stream",
     "text": [
      "Список пустой\n"
     ]
    }
   ],
   "source": [
    "# Задача 6. Проверить состоит ли входной массив исключительного из одного и того же значения.\n",
    "\n",
    "a = []\n",
    "\n",
    "def x(y):\n",
    "    if len(set(y))==0:\n",
    "        return \"Список пустой\"\n",
    "    elif len(set(y))>1:\n",
    "        return \"Не состоит\"\n",
    "    else:\n",
    "        return \"Состоит\"\n",
    "    \n",
    "print(x(a))"
   ]
  },
  {
   "cell_type": "code",
   "execution_count": 2,
   "id": "562259f7",
   "metadata": {},
   "outputs": [
    {
     "name": "stdout",
     "output_type": "stream",
     "text": [
      "True\n"
     ]
    }
   ],
   "source": [
    "# Задача 7. Проверить сложность пароля во входной строке. \n",
    "# Пароль должен содержать, как минимум, одну букву в нижнем регистре, \n",
    "# одну букву в верхнем регистре, одну цифру и не содержит никаких других символов. \n",
    "# Минимальная длина пароля 16 символов.  \n",
    "\n",
    "p = \"XE4Ql0k0xOml3HKq\"\n",
    "\n",
    "def check_password(password):\n",
    "    if len(password) < 16:\n",
    "        return False\n",
    "    if not any(s.islower() for s in password):\n",
    "        return False\n",
    "    if not any(s.isupper() for s in password):\n",
    "        return False\n",
    "    if not any(s.isdigit() for s in password):\n",
    "        return False\n",
    "    if not password.isalnum():\n",
    "        return False\n",
    "    return True\n",
    "\n",
    "print(check_password(p))"
   ]
  },
  {
   "cell_type": "code",
   "execution_count": 2,
   "id": "f9c8da97",
   "metadata": {},
   "outputs": [
    {
     "name": "stdout",
     "output_type": "stream",
     "text": [
      "[10, 35, 3, 14, 62, 73, 4, 21, 17, 32]\n"
     ]
    }
   ],
   "source": [
    "# Задача 8. Во входном списке имеются вложенные списки, которые также могут иметь вложенные списки. \n",
    "# Необходимо вытянуть список в одномерный массив (flatten).\n",
    "\n",
    "l = [[10, 35, [3, 14, 62], [73]], 4, [21, 17, [32]]]\n",
    "\n",
    "def flatten(x):\n",
    "    a = []\n",
    "    for i in x:\n",
    "        if isinstance(i, list):\n",
    "            a.extend(flatten(i))\n",
    "        else:\n",
    "            a.append(i)\n",
    "    return a\n",
    "\n",
    "print(flatten(l))"
   ]
  },
  {
   "cell_type": "code",
   "execution_count": 3,
   "id": "9b24d38f",
   "metadata": {},
   "outputs": [
    {
     "name": "stdout",
     "output_type": "stream",
     "text": [
      "d\n"
     ]
    }
   ],
   "source": [
    "# Задача 9. На вход принимается словарь(dict), в котором ключами являются строки (str), а значениями числа (float). \n",
    "# Необходимо вернуть ключ максимального значения.\n",
    "\n",
    "d = {'a': 7, 'b': 2, 'c': 3, 'd': 5, 'e': 6}\n",
    "\n",
    "def max_key(x):\n",
    "    a = -999999\n",
    "    k = 0\n",
    "    for i in x:\n",
    "        if x[i] > a:\n",
    "            a = x[i]\n",
    "            k = i\n",
    "    return k\n",
    "\n",
    "print(max_key(d))"
   ]
  },
  {
   "cell_type": "code",
   "execution_count": 6,
   "id": "5d63aa66",
   "metadata": {
    "scrolled": true
   },
   "outputs": [
    {
     "name": "stdout",
     "output_type": "stream",
     "text": [
      "[1, 3, 1, 3]\n"
     ]
    }
   ],
   "source": [
    "# Задача 10.  Дан непустой список целых чисел (X). \n",
    "# Необходимо вернуть список, содержащий только неуникальные значения из входного списка. \n",
    "# Порядок чисел не должен меняться.\n",
    "# Пример: [1,2,3,1,3] => [1,3,1,3]\n",
    "\n",
    "\"\"\"\n",
    "l = [1,2,3,1,3]\n",
    "\n",
    "def pov(i):\n",
    "    counter = {}\n",
    "    for r in i:\n",
    "        if r in counter.keys():\n",
    "            counter[r] += 1\n",
    "        else:\n",
    "            counter[r] = 1\n",
    "    return [x for x in i if counter[x] > 1]\n",
    "\n",
    "\n",
    "print(pov(l))\n",
    "\n",
    "Как работает return [x for x in i if counter[x] > 1]:\n",
    "По листу, приходящему на вход функции, проходится цикл (for x in i).\n",
    "Если значение ключа x в словаре counter больше единицы (if counter[x] > 1), то ключ x добавляется в список ([x ...]).\n",
    "Строчка тяжёлая, нашёл её в интернете, как и говорил. Принцип понял, а объяснить тяжело :(\n",
    "\"\"\"\n",
    "\n",
    "l = [1,2,3,1,3]\n",
    "\n",
    "\n",
    "def pov(i):\n",
    "    counter = {}\n",
    "    for r in i:\n",
    "        if r in counter.keys():\n",
    "            counter[r] += 1\n",
    "        else:\n",
    "            counter[r] = 1\n",
    "    a = []\n",
    "    for x in i:\n",
    "        if counter[x] > 1:\n",
    "            a.append(x)\n",
    "    return a\n",
    "\n",
    "print(pov(l))"
   ]
  },
  {
   "cell_type": "code",
   "execution_count": null,
   "id": "0873f666",
   "metadata": {},
   "outputs": [],
   "source": []
  }
 ],
 "metadata": {
  "kernelspec": {
   "display_name": "Python 3 (ipykernel)",
   "language": "python",
   "name": "python3"
  },
  "language_info": {
   "codemirror_mode": {
    "name": "ipython",
    "version": 3
   },
   "file_extension": ".py",
   "mimetype": "text/x-python",
   "name": "python",
   "nbconvert_exporter": "python",
   "pygments_lexer": "ipython3",
   "version": "3.9.13"
  }
 },
 "nbformat": 4,
 "nbformat_minor": 5
}
