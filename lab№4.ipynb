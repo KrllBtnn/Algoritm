{
 "cells": [
  {
   "cell_type": "markdown",
   "id": "3e6734d4",
   "metadata": {},
   "source": [
    "# Классы"
   ]
  },
  {
   "cell_type": "code",
   "execution_count": 169,
   "id": "69588e12",
   "metadata": {},
   "outputs": [],
   "source": [
    "class Human:\n",
    "    \n",
    "    default_name = 'Кирилл'\n",
    "    default_age = 19\n",
    "\n",
    "    def __init__(self, name=default_name, age=default_age):\n",
    "        self.name = name\n",
    "        self.age = age\n",
    "        self.__money = 0\n",
    "        self.__house = None\n",
    "\n",
    "    def info(self):\n",
    "        print('Имя:', self.name)\n",
    "        print('Возраст:', self.age) \n",
    "        print('Деньги:', self.__money)\n",
    "        print('Дом:', self.__house)\n",
    "\n",
    "    @staticmethod\n",
    "    def default_info():\n",
    "        print('Имя по умолчанию:', Human.default_name)\n",
    "        print('Возраст по умолчанию:', Human.default_age)\n",
    "        \n",
    "    def __make_deal(self, house, price):\n",
    "        self.__money -= price\n",
    "        self.__house = house\n",
    "\n",
    "    def earn_money(self, amount):\n",
    "        self.__money += amount\n",
    "\n",
    "    def buy_house(self, House):\n",
    "        if self.__money >= House._price and House._price == House._f_price:\n",
    "            self.__make_deal(House, House._price)\n",
    "            print(self.name, 'купил(а) дом за', House._price)\n",
    "        elif self.__money >= House._f_price and House._price > House._f_price:\n",
    "            self.__make_deal(House, House._f_price)\n",
    "            print(self.name, 'купил(а) дом за', House._f_price)\n",
    "        else:\n",
    "            print(self.name, 'без денег, дом купить нельзя')"
   ]
  },
  {
   "cell_type": "code",
   "execution_count": 170,
   "id": "e4e09171",
   "metadata": {},
   "outputs": [],
   "source": [
    "class House:\n",
    "    _test = \"test\"\n",
    "    \n",
    "    def __init__(self, area, price):\n",
    "        self._area = area\n",
    "        self._price = price\n",
    "        self._f_price = price\n",
    "        \n",
    "    def final_price(self, discount):\n",
    "        self._f_price = self._price * (1 - discount/100)        \n",
    "        return self._f_price\n",
    "    \n",
    "    def info(self):\n",
    "        print('Площадь:', self._area)\n",
    "        print('Цена:', self._price)\n",
    "        print('Цена со скидкой:', self._f_price)"
   ]
  },
  {
   "cell_type": "code",
   "execution_count": 171,
   "id": "3f505e69",
   "metadata": {},
   "outputs": [],
   "source": [
    "class SmallHouse(House):\n",
    "    def __init__(self, price):\n",
    "        self._area = 42\n",
    "        self._price = price\n",
    "        self._f_price = price"
   ]
  },
  {
   "cell_type": "markdown",
   "id": "5cdd66dc",
   "metadata": {},
   "source": [
    "# Тесты"
   ]
  },
  {
   "cell_type": "code",
   "execution_count": 172,
   "id": "6dbbeeb8",
   "metadata": {},
   "outputs": [
    {
     "name": "stdout",
     "output_type": "stream",
     "text": [
      "Имя по умолчанию: Кирилл\n",
      "Возраст по умолчанию: 19\n"
     ]
    }
   ],
   "source": [
    "Human.default_info()"
   ]
  },
  {
   "cell_type": "code",
   "execution_count": 173,
   "id": "4f9dbbac",
   "metadata": {},
   "outputs": [],
   "source": [
    "Lev = Human('Лев', 20)"
   ]
  },
  {
   "cell_type": "code",
   "execution_count": 174,
   "id": "9f5dc999",
   "metadata": {},
   "outputs": [
    {
     "name": "stdout",
     "output_type": "stream",
     "text": [
      "Имя: Лев\n",
      "Возраст: 20\n",
      "Деньги: 0\n",
      "Дом: None\n"
     ]
    }
   ],
   "source": [
    "Lev.info()"
   ]
  },
  {
   "cell_type": "code",
   "execution_count": 175,
   "id": "599a2da6",
   "metadata": {},
   "outputs": [],
   "source": [
    "DetDom = SmallHouse(3000)"
   ]
  },
  {
   "cell_type": "code",
   "execution_count": 176,
   "id": "3b74bbeb",
   "metadata": {
    "scrolled": true
   },
   "outputs": [
    {
     "name": "stdout",
     "output_type": "stream",
     "text": [
      "Лев без денег, дом купить нельзя\n"
     ]
    }
   ],
   "source": [
    "Lev.buy_house(DetDom)"
   ]
  },
  {
   "cell_type": "code",
   "execution_count": 177,
   "id": "865e19f4",
   "metadata": {},
   "outputs": [],
   "source": [
    "Lev.earn_money(3000)"
   ]
  },
  {
   "cell_type": "code",
   "execution_count": 178,
   "id": "44da462c",
   "metadata": {},
   "outputs": [
    {
     "name": "stdout",
     "output_type": "stream",
     "text": [
      "Лев купил(а) дом за 3000\n"
     ]
    }
   ],
   "source": [
    "Lev.buy_house(DetDom)"
   ]
  },
  {
   "cell_type": "code",
   "execution_count": 179,
   "id": "b07d95ce",
   "metadata": {},
   "outputs": [
    {
     "name": "stdout",
     "output_type": "stream",
     "text": [
      "Имя: Лев\n",
      "Возраст: 20\n",
      "Деньги: 0\n",
      "Дом: <__main__.SmallHouse object at 0x000001E6C57BF5B0>\n"
     ]
    }
   ],
   "source": [
    "Lev.info()"
   ]
  }
 ],
 "metadata": {
  "kernelspec": {
   "display_name": "Python 3 (ipykernel)",
   "language": "python",
   "name": "python3"
  },
  "language_info": {
   "codemirror_mode": {
    "name": "ipython",
    "version": 3
   },
   "file_extension": ".py",
   "mimetype": "text/x-python",
   "name": "python",
   "nbconvert_exporter": "python",
   "pygments_lexer": "ipython3",
   "version": "3.9.13"
  }
 },
 "nbformat": 4,
 "nbformat_minor": 5
}
