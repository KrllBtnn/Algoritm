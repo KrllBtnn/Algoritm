{
 "cells": [
  {
   "cell_type": "code",
   "execution_count": 7,
   "id": "638e3fe7",
   "metadata": {
    "scrolled": true
   },
   "outputs": [
    {
     "name": "stdout",
     "output_type": "stream",
     "text": [
      "[1, 2, 6]\n"
     ]
    }
   ],
   "source": [
    "a = [1, 2, 3, 4, 5, 6, 7]\n",
    "def v(x):\n",
    "    el1 = x[0]\n",
    "    el2 = x[1]\n",
    "    el3 = x[-2]\n",
    "    return [el1, el2, el3]\n",
    "\n",
    "print(v(a))"
   ]
  },
  {
   "cell_type": "code",
   "execution_count": 11,
   "id": "f469b986",
   "metadata": {},
   "outputs": [
    {
     "name": "stdout",
     "output_type": "stream",
     "text": [
      "Введите номер элемента 6\n",
      "6\n"
     ]
    }
   ],
   "source": [
    "a = [1, 2, 3, 4, 5, 6, 7]\n",
    "def v(x):\n",
    "    el = int(input(\"Введите номер элемента \"))\n",
    "    return x[el-1]\n",
    "\n",
    "print(v(a))"
   ]
  },
  {
   "cell_type": "code",
   "execution_count": 26,
   "id": "3b9f122b",
   "metadata": {},
   "outputs": [
    {
     "name": "stdout",
     "output_type": "stream",
     "text": [
      "64\n"
     ]
    }
   ],
   "source": [
    "a = [1, 2, 3, 4, 5, 6, 7, 8, 9, 10]\n",
    "N = 3\n",
    "\n",
    "def v(x):\n",
    "    if type(x[N]**N)==int:\n",
    "        return x[N]**N\n",
    "    else:\n",
    "        return -1\n",
    "\n",
    "print(v(a))"
   ]
  },
  {
   "cell_type": "code",
   "execution_count": 29,
   "id": "2c8ac1b5",
   "metadata": {},
   "outputs": [
    {
     "name": "stdout",
     "output_type": "stream",
     "text": [
      "10\n"
     ]
    }
   ],
   "source": [
    "a = (\"В информатике, строковый тип - тип данных\")\n",
    "s = (\"и\")\n",
    "\n",
    "def i(x, y):\n",
    "    n = 0\n",
    "    ind = 0\n",
    "    for k in x:\n",
    "        if k==y:\n",
    "            n+=1\n",
    "        if n==2:\n",
    "            break\n",
    "        ind += 1\n",
    "    if n==2:\n",
    "        return ind\n",
    "    else:\n",
    "        return \"Тут нет второго входящего символа\"\n",
    "    \n",
    "print(i(a,s))"
   ]
  },
  {
   "cell_type": "code",
   "execution_count": 35,
   "id": "2b4d5dff",
   "metadata": {},
   "outputs": [
    {
     "name": "stdout",
     "output_type": "stream",
     "text": [
      "3\n"
     ]
    }
   ],
   "source": [
    "a = 18573485748573845734753487000\n",
    "\n",
    "def x(y):\n",
    "    n = 0\n",
    "    while y%10==0:\n",
    "        n += 1\n",
    "        y = y // 10\n",
    "    return n\n",
    "    \n",
    "print(x(a))"
   ]
  },
  {
   "cell_type": "code",
   "execution_count": 36,
   "id": "ec91f483",
   "metadata": {},
   "outputs": [
    {
     "name": "stdout",
     "output_type": "stream",
     "text": [
      "ынилб тёчеп анатаС\n"
     ]
    }
   ],
   "source": [
    "a = \"Сатана печёт блины\"\n",
    "\n",
    "def p(x):\n",
    "    s = x[::-1]\n",
    "    return s\n",
    "\n",
    "print(p(a))"
   ]
  },
  {
   "cell_type": "code",
   "execution_count": 2,
   "id": "6fe568eb",
   "metadata": {},
   "outputs": [
    {
     "name": "stdout",
     "output_type": "stream",
     "text": [
      "Состоит\n"
     ]
    }
   ],
   "source": [
    "a = [3, 3, 3, 3, 3, 3, 3, 3, 3, 3]\n",
    "\n",
    "def x(y):\n",
    "    if len(set(y))>1:\n",
    "        return \"Не состоит\"\n",
    "    else:\n",
    "        return \"Состоит\"\n",
    "    \n",
    "print(x(a))"
   ]
  },
  {
   "cell_type": "code",
   "execution_count": 2,
   "id": "562259f7",
   "metadata": {},
   "outputs": [
    {
     "name": "stdout",
     "output_type": "stream",
     "text": [
      "True\n"
     ]
    }
   ],
   "source": [
    "p = \"XE4Ql0k0xOml3HKq\"\n",
    "\n",
    "def check_password(password):\n",
    "    if len(password) < 16:\n",
    "        return False\n",
    "    if not any(s.islower() for s in password):\n",
    "        return False\n",
    "    if not any(s.isupper() for s in password):\n",
    "        return False\n",
    "    if not any(s.isdigit() for s in password):\n",
    "        return False\n",
    "    if not password.isalnum():\n",
    "        return False\n",
    "    return True\n",
    "\n",
    "print(check_password(p))"
   ]
  },
  {
   "cell_type": "code",
   "execution_count": 2,
   "id": "f9c8da97",
   "metadata": {},
   "outputs": [
    {
     "name": "stdout",
     "output_type": "stream",
     "text": [
      "[10, 35, 3, 14, 62, 73, 4, 21, 17, 32]\n"
     ]
    }
   ],
   "source": [
    "l = [[10, 35, [3, 14, 62], [73]], 4, [21, 17, [32]]]\n",
    "\n",
    "def flatten(x):\n",
    "    a = []\n",
    "    for i in x:\n",
    "        if isinstance(i, list):\n",
    "            a.extend(flatten(i))\n",
    "        else:\n",
    "            a.append(i)\n",
    "    return a\n",
    "\n",
    "print(flatten(l))"
   ]
  },
  {
   "cell_type": "code",
   "execution_count": 3,
   "id": "9b24d38f",
   "metadata": {},
   "outputs": [
    {
     "name": "stdout",
     "output_type": "stream",
     "text": [
      "d\n"
     ]
    }
   ],
   "source": [
    "d = {'a': 7, 'b': 2, 'c': 3, 'd': 5, 'e': 6}\n",
    "\n",
    "def max_key(x):\n",
    "    a = -999999\n",
    "    k = 0\n",
    "    for i in x:\n",
    "        if x[i] > a:\n",
    "            a = x[i]\n",
    "            k = i\n",
    "    return k\n",
    "\n",
    "print(max_key(d))"
   ]
  },
  {
   "cell_type": "code",
   "execution_count": 12,
   "id": "5d63aa66",
   "metadata": {},
   "outputs": [
    {
     "name": "stdout",
     "output_type": "stream",
     "text": [
      "[1, 3, 1, 3]\n"
     ]
    }
   ],
   "source": [
    "l = [1,2,3,1,3]\n",
    "\n",
    "def pov(i):\n",
    "    counter = {}\n",
    "    for r in i:\n",
    "        if r in counter.keys():\n",
    "            counter[r] += 1\n",
    "        else:\n",
    "            counter[r] = 1\n",
    "    return [x for x in i if counter[x] > 1]\n",
    "\n",
    "print(pov(l))"
   ]
  }
 ],
 "metadata": {
  "kernelspec": {
   "display_name": "Python 3 (ipykernel)",
   "language": "python",
   "name": "python3"
  },
  "language_info": {
   "codemirror_mode": {
    "name": "ipython",
    "version": 3
   },
   "file_extension": ".py",
   "mimetype": "text/x-python",
   "name": "python",
   "nbconvert_exporter": "python",
   "pygments_lexer": "ipython3",
   "version": "3.9.13"
  }
 },
 "nbformat": 4,
 "nbformat_minor": 5
}
